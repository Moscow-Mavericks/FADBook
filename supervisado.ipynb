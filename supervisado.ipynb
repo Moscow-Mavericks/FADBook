{
 "cells": [
  {
   "cell_type": "markdown",
   "metadata": {},
   "source": [
    "# Aprendizaje supervisado"
   ]
  },
  {
   "cell_type": "markdown",
   "metadata": {},
   "source": [
    "## 1. Librerias"
   ]
  },
  {
   "cell_type": "code",
   "execution_count": 1,
   "metadata": {},
   "outputs": [],
   "source": [
    "import pandas as pd\n",
    "import numpy as np\n",
    "import io\n",
    "import warnings\n",
    "import matplotlib.pyplot as plt\n",
    "import seaborn as sns\n",
    "import datetime\n",
    "%matplotlib inline\n",
    "warnings.filterwarnings('ignore')\n",
    "import random\n",
    "random.seed(1)\n",
    "from sklearn.svm import SVC\n",
    "from sklearn.metrics import confusion_matrix\n",
    "from sklearn.metrics import classification_report, confusion_matrix\n",
    "from sklearn.model_selection import train_test_split\n",
    "from sklearn.model_selection import cross_val_score\n",
    "from sklearn.metrics import roc_auc_score\n",
    "from sklearn.metrics import roc_curve\n",
    "from imblearn.over_sampling import SMOTE\n",
    "from sklearn.linear_model import LogisticRegression\n",
    "from sklearn import metrics\n",
    "from sklearn.preprocessing import StandardScaler\n",
    "from sklearn.neighbors import KNeighborsClassifier\n",
    "from sklearn.model_selection import GridSearchCV, RepeatedStratifiedKFold"
   ]
  },
  {
   "cell_type": "markdown",
   "metadata": {},
   "source": [
    "## 2. Datos\n",
    "\n",
    "Vamos a realizar el proceso con dos selección de variables distintas para ver con cual obtenemos mejores resultados:\n",
    "\n",
    "* Selección 1: Las 25 variables más importantes obtenidas en el apartado de \"Selección de Variables\" del primer trimestre.\n",
    "\n",
    "* Selección 2: Formada por las variables arrival_month, deposit_type_Non Refund, is_repeated_guest, reserverd/assigned, hotel_Resort Hotel."
   ]
  },
  {
   "cell_type": "code",
   "execution_count": 2,
   "metadata": {},
   "outputs": [
    {
     "data": {
      "text/html": [
       "<div>\n",
       "<style scoped>\n",
       "    .dataframe tbody tr th:only-of-type {\n",
       "        vertical-align: middle;\n",
       "    }\n",
       "\n",
       "    .dataframe tbody tr th {\n",
       "        vertical-align: top;\n",
       "    }\n",
       "\n",
       "    .dataframe thead th {\n",
       "        text-align: right;\n",
       "    }\n",
       "</style>\n",
       "<table border=\"1\" class=\"dataframe\">\n",
       "  <thead>\n",
       "    <tr style=\"text-align: right;\">\n",
       "      <th></th>\n",
       "      <th>Unnamed: 0</th>\n",
       "      <th>is_canceled</th>\n",
       "      <th>lead_time</th>\n",
       "      <th>arrival_date_year</th>\n",
       "      <th>arrival_date_week_number</th>\n",
       "      <th>arrival_date_day_of_month</th>\n",
       "      <th>stays_in_weekend_nights</th>\n",
       "      <th>stays_in_week_nights</th>\n",
       "      <th>adults</th>\n",
       "      <th>children</th>\n",
       "      <th>...</th>\n",
       "      <th>hotel_Resort Hotel</th>\n",
       "      <th>meal_FB</th>\n",
       "      <th>meal_HB</th>\n",
       "      <th>meal_SC</th>\n",
       "      <th>meal_Undefined</th>\n",
       "      <th>deposit_type_Non Refund</th>\n",
       "      <th>deposit_type_Refundable</th>\n",
       "      <th>reserverd/assigned</th>\n",
       "      <th>customer_type_Group</th>\n",
       "      <th>customer_type_Transient-Party</th>\n",
       "    </tr>\n",
       "  </thead>\n",
       "  <tbody>\n",
       "    <tr>\n",
       "      <th>0</th>\n",
       "      <td>0</td>\n",
       "      <td>0.0</td>\n",
       "      <td>13.077658</td>\n",
       "      <td>2015.0</td>\n",
       "      <td>27.0</td>\n",
       "      <td>1.0</td>\n",
       "      <td>2.0</td>\n",
       "      <td>5.0</td>\n",
       "      <td>2.0</td>\n",
       "      <td>0.0</td>\n",
       "      <td>...</td>\n",
       "      <td>1.0</td>\n",
       "      <td>0.0</td>\n",
       "      <td>1.0</td>\n",
       "      <td>0.0</td>\n",
       "      <td>0.0</td>\n",
       "      <td>0.0</td>\n",
       "      <td>0.0</td>\n",
       "      <td>0.0</td>\n",
       "      <td>0.0</td>\n",
       "      <td>0.0</td>\n",
       "    </tr>\n",
       "    <tr>\n",
       "      <th>1</th>\n",
       "      <td>1</td>\n",
       "      <td>1.0</td>\n",
       "      <td>7.389493</td>\n",
       "      <td>2015.0</td>\n",
       "      <td>27.0</td>\n",
       "      <td>1.0</td>\n",
       "      <td>0.0</td>\n",
       "      <td>2.0</td>\n",
       "      <td>2.0</td>\n",
       "      <td>0.0</td>\n",
       "      <td>...</td>\n",
       "      <td>0.0</td>\n",
       "      <td>0.0</td>\n",
       "      <td>1.0</td>\n",
       "      <td>0.0</td>\n",
       "      <td>0.0</td>\n",
       "      <td>0.0</td>\n",
       "      <td>0.0</td>\n",
       "      <td>1.0</td>\n",
       "      <td>0.0</td>\n",
       "      <td>1.0</td>\n",
       "    </tr>\n",
       "    <tr>\n",
       "      <th>2</th>\n",
       "      <td>2</td>\n",
       "      <td>0.0</td>\n",
       "      <td>7.755577</td>\n",
       "      <td>2015.0</td>\n",
       "      <td>27.0</td>\n",
       "      <td>1.0</td>\n",
       "      <td>0.0</td>\n",
       "      <td>2.0</td>\n",
       "      <td>1.0</td>\n",
       "      <td>0.0</td>\n",
       "      <td>...</td>\n",
       "      <td>0.0</td>\n",
       "      <td>0.0</td>\n",
       "      <td>1.0</td>\n",
       "      <td>0.0</td>\n",
       "      <td>0.0</td>\n",
       "      <td>0.0</td>\n",
       "      <td>0.0</td>\n",
       "      <td>1.0</td>\n",
       "      <td>0.0</td>\n",
       "      <td>1.0</td>\n",
       "    </tr>\n",
       "    <tr>\n",
       "      <th>3</th>\n",
       "      <td>3</td>\n",
       "      <td>0.0</td>\n",
       "      <td>13.077658</td>\n",
       "      <td>2015.0</td>\n",
       "      <td>27.0</td>\n",
       "      <td>1.0</td>\n",
       "      <td>0.0</td>\n",
       "      <td>4.0</td>\n",
       "      <td>2.0</td>\n",
       "      <td>0.0</td>\n",
       "      <td>...</td>\n",
       "      <td>1.0</td>\n",
       "      <td>0.0</td>\n",
       "      <td>0.0</td>\n",
       "      <td>0.0</td>\n",
       "      <td>0.0</td>\n",
       "      <td>0.0</td>\n",
       "      <td>0.0</td>\n",
       "      <td>0.0</td>\n",
       "      <td>0.0</td>\n",
       "      <td>1.0</td>\n",
       "    </tr>\n",
       "    <tr>\n",
       "      <th>4</th>\n",
       "      <td>4</td>\n",
       "      <td>1.0</td>\n",
       "      <td>7.389493</td>\n",
       "      <td>2015.0</td>\n",
       "      <td>27.0</td>\n",
       "      <td>1.0</td>\n",
       "      <td>0.0</td>\n",
       "      <td>2.0</td>\n",
       "      <td>2.0</td>\n",
       "      <td>0.0</td>\n",
       "      <td>...</td>\n",
       "      <td>0.0</td>\n",
       "      <td>0.0</td>\n",
       "      <td>1.0</td>\n",
       "      <td>0.0</td>\n",
       "      <td>0.0</td>\n",
       "      <td>0.0</td>\n",
       "      <td>0.0</td>\n",
       "      <td>1.0</td>\n",
       "      <td>0.0</td>\n",
       "      <td>1.0</td>\n",
       "    </tr>\n",
       "  </tbody>\n",
       "</table>\n",
       "<p>5 rows × 30 columns</p>\n",
       "</div>"
      ],
      "text/plain": [
       "   Unnamed: 0  is_canceled  lead_time  arrival_date_year  \\\n",
       "0           0          0.0  13.077658             2015.0   \n",
       "1           1          1.0   7.389493             2015.0   \n",
       "2           2          0.0   7.755577             2015.0   \n",
       "3           3          0.0  13.077658             2015.0   \n",
       "4           4          1.0   7.389493             2015.0   \n",
       "\n",
       "   arrival_date_week_number  arrival_date_day_of_month  \\\n",
       "0                      27.0                        1.0   \n",
       "1                      27.0                        1.0   \n",
       "2                      27.0                        1.0   \n",
       "3                      27.0                        1.0   \n",
       "4                      27.0                        1.0   \n",
       "\n",
       "   stays_in_weekend_nights  stays_in_week_nights  adults  children  ...  \\\n",
       "0                      2.0                   5.0     2.0       0.0  ...   \n",
       "1                      0.0                   2.0     2.0       0.0  ...   \n",
       "2                      0.0                   2.0     1.0       0.0  ...   \n",
       "3                      0.0                   4.0     2.0       0.0  ...   \n",
       "4                      0.0                   2.0     2.0       0.0  ...   \n",
       "\n",
       "   hotel_Resort Hotel  meal_FB  meal_HB  meal_SC  meal_Undefined  \\\n",
       "0                 1.0      0.0      1.0      0.0             0.0   \n",
       "1                 0.0      0.0      1.0      0.0             0.0   \n",
       "2                 0.0      0.0      1.0      0.0             0.0   \n",
       "3                 1.0      0.0      0.0      0.0             0.0   \n",
       "4                 0.0      0.0      1.0      0.0             0.0   \n",
       "\n",
       "   deposit_type_Non Refund  deposit_type_Refundable  reserverd/assigned  \\\n",
       "0                      0.0                      0.0                 0.0   \n",
       "1                      0.0                      0.0                 1.0   \n",
       "2                      0.0                      0.0                 1.0   \n",
       "3                      0.0                      0.0                 0.0   \n",
       "4                      0.0                      0.0                 1.0   \n",
       "\n",
       "   customer_type_Group  customer_type_Transient-Party  \n",
       "0                  0.0                            0.0  \n",
       "1                  0.0                            1.0  \n",
       "2                  0.0                            1.0  \n",
       "3                  0.0                            1.0  \n",
       "4                  0.0                            1.0  \n",
       "\n",
       "[5 rows x 30 columns]"
      ]
     },
     "execution_count": 2,
     "metadata": {},
     "output_type": "execute_result"
    }
   ],
   "source": [
    "data = pd.read_csv('data.csv')\n",
    "data.head()"
   ]
  },
  {
   "cell_type": "markdown",
   "metadata": {},
   "source": [
    "### Selección de datos 1"
   ]
  },
  {
   "cell_type": "code",
   "execution_count": 3,
   "metadata": {},
   "outputs": [],
   "source": [
    "X1 = data.iloc[:,2:30].values\n",
    "Y1 = data.iloc[:,1].values"
   ]
  },
  {
   "cell_type": "code",
   "execution_count": 4,
   "metadata": {
    "scrolled": true
   },
   "outputs": [
    {
     "name": "stdout",
     "output_type": "stream",
     "text": [
      "Train (20100, 28) (20100,)\n",
      "Test (9900, 28) (9900,)\n"
     ]
    }
   ],
   "source": [
    "X_train1, X_test1, y_train1, y_test1 = train_test_split(X1, Y1, test_size=0.33, random_state=1)\n",
    "print('Train', X_train1.shape, y_train1.shape)\n",
    "print('Test', X_test1.shape, y_test1.shape)"
   ]
  },
  {
   "cell_type": "markdown",
   "metadata": {},
   "source": [
    "### Selección de datos 2"
   ]
  },
  {
   "cell_type": "code",
   "execution_count": 5,
   "metadata": {},
   "outputs": [],
   "source": [
    "#Vars selected\n",
    "vars_s=['arrival_month','deposit_type_Non Refund','is_repeated_guest','reserverd/assigned','hotel_Resort Hotel']\n",
    "\n",
    "Y2 = data.is_canceled\n",
    "X2 = data[vars_s]"
   ]
  },
  {
   "cell_type": "code",
   "execution_count": 6,
   "metadata": {
    "scrolled": true
   },
   "outputs": [
    {
     "name": "stdout",
     "output_type": "stream",
     "text": [
      "Train (20100, 5) (20100,)\n",
      "Test (9900, 5) (9900,)\n"
     ]
    }
   ],
   "source": [
    "X_train2, X_test2, y_train2, y_test2 = train_test_split(X2, Y2, test_size=0.33, random_state=1)\n",
    "print('Train', X_train2.shape, y_train2.shape)\n",
    "print('Test', X_test2.shape, y_test2.shape)"
   ]
  },
  {
   "cell_type": "markdown",
   "metadata": {},
   "source": [
    "## 3. Regresion Logística\n",
    "\n",
    "Mediante la RL se pretende modelar la probabilidad de que ocurra el hecho en cuestión como función de ciertas variables que se presumen relevantes o influyentes. Por lo tanto, la RL consiste en obtener una función logística de las variables independientes que permita clasificar a los individuos en una de las dos subpoblaciones o grupos establecidos por los dos va­lores de la variable dependiente.\n",
    "\n",
    "La función logística es aquella que halla, para cada individuo según los valores de una serie de variables (Xi), la probabilidad (p) de que presente el efecto estudiado. Una transformación logarítmica de dicha ecuación, a la que se le llama logit. De aquí surge la ecuación de la regresión logística, que es parecida a la ecuación de la regresión lineal múltiple."
   ]
  },
  {
   "cell_type": "code",
   "execution_count": 7,
   "metadata": {},
   "outputs": [],
   "source": [
    "def evaluate_model(X_train, y_train,X_test, y_test, model):\n",
    "    model.fit(X_train, y_train)\n",
    "    preds = model.predict(X_test)\n",
    "    scores = cross_val_score(model, X_train, y_train, cv=3, scoring=\"accuracy\")\n",
    "    diff = scores.mean() - model.score(X_test, y_test)\n",
    "    SD = diff / scores.std()\n",
    "    \n",
    "    print(f\"Training Score:{model.score(X_train, y_train)}\")\n",
    "    print(f\"Cross V Score: {scores.mean()} +/- {scores.std()}\")\n",
    "    print(f\"Testing Score: {model.score(X_test, y_test)}\")\n",
    "    print(f\"Cross & Test Diff: {diff}\")\n",
    "    print(f\"Standard Deviations Away: {SD}\")\n",
    "    print(confusion_matrix(y_test, preds))\n",
    "   \n",
    "    print(classification_report(y_test, preds))\n",
    "    \n",
    "    logit_roc_auc = roc_auc_score(y_test, preds)\n",
    "    fpr, tpr, thresholds = roc_curve(y_test, model.predict_proba(X_test)[:,1])\n",
    "    plt.figure()\n",
    "    plt.plot(fpr, tpr, label='Logistic Regression (area = %0.2f)' % logit_roc_auc)\n",
    "    plt.plot([0, 1], [0, 1],'r--')\n",
    "    plt.xlim([0.0, 1.0])\n",
    "    plt.ylim([0.0, 1.05])\n",
    "    plt.xlabel('False Positive Rate')\n",
    "    plt.ylabel('True Positive Rate')\n",
    "    plt.title('Receiver operating characteristic')\n",
    "    plt.legend(loc=\"lower right\")\n",
    "    plt.show()"
   ]
  },
  {
   "cell_type": "markdown",
   "metadata": {},
   "source": [
    "### Balanceado\n",
    "\n",
    "Para el balanceado de los datos utilizaremos la tecnica SMOTE (Synthetic Minority Oversampling Technique).\n",
    "\n",
    "SMOTE es una técnica estadística de sobremuestreo de minorías sintéticas para aumentar el número de casos de un conjunto de datos de forma equilibrada. El módulo funciona cuando genera nuevas instancias a partir de casos minoritarios existentes que se proporcionan como entrada. SMOTE no cambia el número de casos de mayoría.\n",
    "\n",
    "Las instancias nuevas no son meras copias de los casos minoritarios existentes. En su lugar, el algoritmo toma muestras del espacio de características de cada clase de destino y de sus vecinos más próximos. Luego, el algoritmo genera nuevos ejemplos que combinan las características del caso que nos ocupa con características de sus vecinos. Este enfoque aumenta las características disponibles para cada clase y hace que las muestras sean más generales."
   ]
  },
  {
   "cell_type": "code",
   "execution_count": 8,
   "metadata": {},
   "outputs": [],
   "source": [
    "os = SMOTE(random_state=0)\n",
    "os_data_X,os_data_y=os.fit_resample(X_train1, y_train1)\n",
    "os_data_2X,os_data_2y=os.fit_resample(X_train2, y_train2)"
   ]
  },
  {
   "cell_type": "markdown",
   "metadata": {},
   "source": [
    "### Selección de datos 1"
   ]
  },
  {
   "cell_type": "code",
   "execution_count": 11,
   "metadata": {},
   "outputs": [
    {
     "data": {
      "image/png": "[encoded data removed]",
      "text/plain": [
       "<IPython.core.display.Image object>"
      ]
     },
     "execution_count": 11,
     "metadata": {},
     "output_type": "execute_result"
    }
   ],
   "source": [
    "reg_log = LogisticRegression(random_state=0, solver='newton-cg', max_iter=100)#1000)\n",
    "#evaluate_model(os_data_X, os_data_y, X_test1, y_test1, reg_log)\n",
    "from IPython.display import Image\n",
    "Image(filename='roc_curve.png') "
   ]
  },
  {
   "cell_type": "markdown",
   "metadata": {},
   "source": [
    "### Selección de datos 2"
   ]
  },
  {
   "cell_type": "code",
   "execution_count": 10,
   "metadata": {},
   "outputs": [
    {
     "name": "stdout",
     "output_type": "stream",
     "text": [
      "Training Score:0.6611730298000158\n",
      "Cross V Score: 0.6611730298000159 +/- 0.0031105038921746837\n",
      "Testing Score: 0.7540404040404041\n",
      "Cross & Test Diff: -0.09286737424038816\n",
      "Standard Deviations Away: -29.85605466497606\n",
      "[[6289    9]\n",
      " [2426 1176]]\n",
      "              precision    recall  f1-score   support\n",
      "\n",
      "         0.0       0.72      1.00      0.84      6298\n",
      "         1.0       0.99      0.33      0.49      3602\n",
      "\n",
      "    accuracy                           0.75      9900\n",
      "   macro avg       0.86      0.66      0.66      9900\n",
      "weighted avg       0.82      0.75      0.71      9900\n",
      "\n"
     ]
    },
    {
     "data": {
      "image/png": "[encoded data removed]",
      "text/plain": [
       "<Figure size 432x288 with 1 Axes>"
      ]
     },
     "metadata": {
      "needs_background": "light"
     },
     "output_type": "display_data"
    }
   ],
   "source": [
    "reg_log = LogisticRegression(random_state=0, solver='newton-cg', max_iter=1000)\n",
    "evaluate_model(os_data_2X, os_data_2y, X_test2, y_test2, reg_log)"
   ]
  },
  {
   "cell_type": "markdown",
   "metadata": {},
   "source": [
    "## 4. KNN\n",
    "\n",
    "El algoritmo KNN (K Nearest Neighbours) clasifica cada dato nuevo en el grupo que corresponda, según tenga k vecinos más cerca de un grupo o de otro. Es decir, calcula la distancia del elemento nuevo a cada uno de los existentes, y ordena dichas distancias de menor a mayor para ir seleccionando el grupo al que pertenecer. Este grupo será, por tanto, el de mayor frecuencia con menores distancias.\n",
    "\n",
    "En contraste con otros algoritmos de aprendizaje supervisado, K-NN no genera un modelo fruto del aprendizaje con datos de entrenamiento, sino que el aprendizaje sucede en el mismo momento en el que se prueban los datos de test. A este tipo de algoritmos se les llama lazy learning methods."
   ]
  },
  {
   "cell_type": "markdown",
   "metadata": {},
   "source": [
    "### Selección de datos 1"
   ]
  },
  {
   "cell_type": "code",
   "execution_count": 13,
   "metadata": {},
   "outputs": [],
   "source": [
    "X_train = X_train1\n",
    "y_train = y_train1\n",
    "\n",
    "X_test = X_test1\n",
    "y_test = y_test1"
   ]
  },
  {
   "cell_type": "code",
   "execution_count": 14,
   "metadata": {},
   "outputs": [],
   "source": [
    "scaler = StandardScaler()\n",
    "scaler.fit(X_train)\n",
    "\n",
    "X_train_stand = scaler.transform(X_train)\n",
    "X_test_stand = scaler.transform(X_test)"
   ]
  },
  {
   "cell_type": "markdown",
   "metadata": {},
   "source": [
    "Primero estandarizamos los valores.\n",
    "\n",
    "Ahora vamos a buscar cual es el valor de K más óptimo."
   ]
  },
  {
   "cell_type": "code",
   "execution_count": null,
   "metadata": {},
   "outputs": [],
   "source": [
    "error = []\n",
    "\n",
    "for i in range(1, 30):\n",
    "    knn = KNeighborsClassifier(n_neighbors=i)\n",
    "    knn.fit(X_train_stand, y_train)\n",
    "    pred_i = knn.predict(X_test_stand)\n",
    "    error.append(np.mean(pred_i != y_test))"
   ]
  },
  {
   "cell_type": "code",
   "execution_count": 14,
   "metadata": {},
   "outputs": [
    {
     "data": {
      "text/plain": [
       "Text(0, 0.5, 'Mean Error')"
      ]
     },
     "execution_count": 14,
     "metadata": {},
     "output_type": "execute_result"
    },
    {
     "data": {
      "image/png": "[encoded data removed]",
      "text/plain": [
       "<Figure size 864x432 with 1 Axes>"
      ]
     },
     "metadata": {
      "needs_background": "light"
     },
     "output_type": "display_data"
    }
   ],
   "source": [
    "plt.figure(figsize=(12, 6))\n",
    "plt.plot(range(1, 30), error, color='red', linestyle='dashed', marker='o',\n",
    "         markerfacecolor='blue', markersize=10)\n",
    "plt.title('Error Rate K Value')\n",
    "plt.xlabel('K Value')\n",
    "plt.ylabel('Mean Error')"
   ]
  },
  {
   "cell_type": "markdown",
   "metadata": {},
   "source": [
    "Nos quedamos con K = 3 para entrenar el modelo."
   ]
  },
  {
   "cell_type": "code",
   "execution_count": 15,
   "metadata": {},
   "outputs": [
    {
     "data": {
      "text/plain": [
       "KNeighborsClassifier(n_neighbors=3)"
      ]
     },
     "execution_count": 15,
     "metadata": {},
     "output_type": "execute_result"
    }
   ],
   "source": [
    "classifier = KNeighborsClassifier(n_neighbors=3)\n",
    "classifier.fit(X_train_stand, y_train)"
   ]
  },
  {
   "cell_type": "code",
   "execution_count": 16,
   "metadata": {},
   "outputs": [],
   "source": [
    "y_pred = classifier.predict(X_test_stand)"
   ]
  },
  {
   "cell_type": "markdown",
   "metadata": {},
   "source": [
    "Sacamos el informe de clasificación que hemos obtenido:"
   ]
  },
  {
   "cell_type": "code",
   "execution_count": 17,
   "metadata": {},
   "outputs": [
    {
     "name": "stdout",
     "output_type": "stream",
     "text": [
      "[[5919  379]\n",
      " [ 689 2913]]\n",
      "              precision    recall  f1-score   support\n",
      "\n",
      "         0.0       0.90      0.94      0.92      6298\n",
      "         1.0       0.88      0.81      0.85      3602\n",
      "\n",
      "    accuracy                           0.89      9900\n",
      "   macro avg       0.89      0.87      0.88      9900\n",
      "weighted avg       0.89      0.89      0.89      9900\n",
      "\n"
     ]
    }
   ],
   "source": [
    "print(confusion_matrix(y_test, y_pred))\n",
    "print(classification_report(y_test, y_pred))"
   ]
  },
  {
   "cell_type": "markdown",
   "metadata": {},
   "source": [
    "De esta forma obtenemos una precisión de 90% para la clase no cancelado y 88% para cancelado con un recall de 94% y 80% respectivamente.\n",
    "Lo que significa que encontramos el 80% de casos en los que se cancela la reserva, y predecimos correctamente el 90% de esos.\n",
    "Esto da un f1-score de 92% y 85% respectivamente.\n",
    "\n",
    "(El recall nos indica el porcentaje encontrado de esa clase con respecto a todos los elementos de esa misma clase)"
   ]
  },
  {
   "cell_type": "markdown",
   "metadata": {},
   "source": [
    "### Selección de datos 2"
   ]
  },
  {
   "cell_type": "code",
   "execution_count": 18,
   "metadata": {},
   "outputs": [],
   "source": [
    "X_train = X_train2\n",
    "y_train = y_train2\n",
    "\n",
    "X_test = X_test2\n",
    "y_test = y_test2"
   ]
  },
  {
   "cell_type": "code",
   "execution_count": 19,
   "metadata": {},
   "outputs": [],
   "source": [
    "scaler = StandardScaler()\n",
    "scaler.fit(X_train)\n",
    "\n",
    "X_train_stand = scaler.transform(X_train)\n",
    "X_test_stand = scaler.transform(X_test)"
   ]
  },
  {
   "cell_type": "markdown",
   "metadata": {},
   "source": [
    "Primero estandarizamos los valores.\n",
    "\n",
    "Ahora vamos a buscar cual es el valor de K más óptimo."
   ]
  },
  {
   "cell_type": "code",
   "execution_count": 20,
   "metadata": {},
   "outputs": [],
   "source": [
    "error = []\n",
    "\n",
    "# Calculating error for K values between 1 and 40\n",
    "for i in range(1, 30):\n",
    "    knn = KNeighborsClassifier(n_neighbors=i)\n",
    "    knn.fit(X_train_stand, y_train)\n",
    "    pred_i = knn.predict(X_test_stand)\n",
    "    error.append(np.mean(pred_i != y_test))"
   ]
  },
  {
   "cell_type": "code",
   "execution_count": 21,
   "metadata": {},
   "outputs": [
    {
     "data": {
      "text/plain": [
       "Text(0, 0.5, 'Mean Error')"
      ]
     },
     "execution_count": 21,
     "metadata": {},
     "output_type": "execute_result"
    },
    {
     "data": {
      "image/png": "[encoded data removed]",
      "text/plain": [
       "<Figure size 864x432 with 1 Axes>"
      ]
     },
     "metadata": {
      "needs_background": "light"
     },
     "output_type": "display_data"
    }
   ],
   "source": [
    "plt.figure(figsize=(12, 6))\n",
    "plt.plot(range(1, 30), error, color='red', linestyle='dashed', marker='o',\n",
    "         markerfacecolor='blue', markersize=10)\n",
    "plt.title('Error Rate K Value')\n",
    "plt.xlabel('K Value')\n",
    "plt.ylabel('Mean Error')"
   ]
  },
  {
   "cell_type": "markdown",
   "metadata": {},
   "source": [
    "Vemos que a partir de K = 16 el valor no se mejora, por lo que nos quedamos con ese valor para K."
   ]
  },
  {
   "cell_type": "code",
   "execution_count": 22,
   "metadata": {},
   "outputs": [
    {
     "data": {
      "text/plain": [
       "KNeighborsClassifier(n_neighbors=16)"
      ]
     },
     "execution_count": 22,
     "metadata": {},
     "output_type": "execute_result"
    }
   ],
   "source": [
    "classifier = KNeighborsClassifier(n_neighbors=16)\n",
    "classifier.fit(X_train_stand, y_train)"
   ]
  },
  {
   "cell_type": "code",
   "execution_count": 23,
   "metadata": {},
   "outputs": [],
   "source": [
    "y_pred = classifier.predict(X_test_stand)"
   ]
  },
  {
   "cell_type": "markdown",
   "metadata": {},
   "source": [
    "Sacamos el informe de clasificación que hemos obtenido:"
   ]
  },
  {
   "cell_type": "code",
   "execution_count": 24,
   "metadata": {},
   "outputs": [
    {
     "name": "stdout",
     "output_type": "stream",
     "text": [
      "[[6277   21]\n",
      " [2415 1187]]\n",
      "              precision    recall  f1-score   support\n",
      "\n",
      "         0.0       0.72      1.00      0.84      6298\n",
      "         1.0       0.98      0.33      0.49      3602\n",
      "\n",
      "    accuracy                           0.75      9900\n",
      "   macro avg       0.85      0.66      0.67      9900\n",
      "weighted avg       0.82      0.75      0.71      9900\n",
      "\n"
     ]
    }
   ],
   "source": [
    "print(confusion_matrix(y_test, y_pred))\n",
    "print(classification_report(y_test, y_pred))"
   ]
  },
  {
   "cell_type": "markdown",
   "metadata": {},
   "source": [
    "Con esta selección de variables obtenemos más precisión en cada una de las clases, pero un recall mucho más bajo, por lo que no está encontrado todos los elementos de la clase correspondiente.\n",
    "\n",
    "Concluimos por lo tanto que se obtienen mejores resultados con la primera selección de datos, donde podemos decir sacamos un buen resultado."
   ]
  },
  {
   "cell_type": "markdown",
   "metadata": {},
   "source": [
    "## 5. SVM\n",
    "\n",
    "El método de clasificación-regresión Máquinas de Vector Soporte (Vector Support Machines, SVMs) fue desarrollado en la década de los 90, dentro de campo de la ciencia computacional. Si bien originariamente se desarrolló como un método de clasificación binaria, su aplicación se ha extendido a problemas de clasificación múltiple y regresión. SVMs ha resultado ser uno de los mejores clasificadores para un amplio abanico de situaciones, por lo que se considera uno de los referentes dentro del ámbito de aprendizaje estadístico y machine learning.\n",
    "\n",
    "Las Máquinas de Vector Soporte se fundamentan en el Maximal Margin Classifier, que a su vez, se basa en el concepto de hiperplano.\n",
    "\n",
    "Las ventajas de las máquinas de vectores de soporte son:\n",
    "* Eficaces en espacios de gran dimensión. Siguen siendo eficaces en los casos en que el número de dimensiones es mayor que el número de muestras.\n",
    "* Utiliza un subconjunto de puntos de entrenamiento en la función de decisión (llamados vectores de soporte), por lo que también es eficiente en la memoria.\n",
    "* Versátil: se pueden especificar diferentes funciones kernel para la función de decisión. Se proporcionan kernels comunes en sklearn, pero también es posible especificar kernels personalizados.\n",
    "\n",
    "Las desventajas de las máquinas de vectores de soporte incluyen:\n",
    "* Si el número de características es mucho mayor que el número de muestras, evitar el ajuste excesivo es crucial al elegir las funciones del Kernel y el término de regularización.\n",
    "* Las SVM no proporcionan directamente estimaciones de probabilidad."
   ]
  },
  {
   "cell_type": "code",
   "execution_count": 25,
   "metadata": {},
   "outputs": [],
   "source": [
    "def launch_SVM(X_train,y_train,X_test,y_test,kernel='linear'):\n",
    "    svc = SVC(kernel=kernel)\n",
    "    svc.fit(X_train, y_train)\n",
    "    y_pred = svc.predict(X_test)\n",
    "    confusion_matrix(y_test, y_pred)\n",
    "    print('---Matriz de confusión---')\n",
    "    print()\n",
    "    print(confusion_matrix(y_test,y_pred))\n",
    "    print()\n",
    "    print('---Report---')\n",
    "    print(classification_report(y_test1,y_pred))"
   ]
  },
  {
   "cell_type": "markdown",
   "metadata": {},
   "source": [
    "### Selección de datos 1"
   ]
  },
  {
   "cell_type": "markdown",
   "metadata": {},
   "source": [
    "#### Kernel lineal"
   ]
  },
  {
   "cell_type": "code",
   "execution_count": 26,
   "metadata": {},
   "outputs": [
    {
     "name": "stdout",
     "output_type": "stream",
     "text": [
      "---Matriz de confusión---\n",
      "\n",
      "[[6027  271]\n",
      " [ 459 3143]]\n",
      "\n",
      "---Report---\n",
      "              precision    recall  f1-score   support\n",
      "\n",
      "         0.0       0.93      0.96      0.94      6298\n",
      "         1.0       0.92      0.87      0.90      3602\n",
      "\n",
      "    accuracy                           0.93      9900\n",
      "   macro avg       0.92      0.91      0.92      9900\n",
      "weighted avg       0.93      0.93      0.93      9900\n",
      "\n"
     ]
    }
   ],
   "source": [
    "launch_SVM(X_train1,y_train1,X_test1,y_test1,kernel='linear')"
   ]
  },
  {
   "cell_type": "markdown",
   "metadata": {},
   "source": [
    "#### Kernel Gaussiano"
   ]
  },
  {
   "cell_type": "code",
   "execution_count": 27,
   "metadata": {},
   "outputs": [
    {
     "name": "stdout",
     "output_type": "stream",
     "text": [
      "---Matriz de confusión---\n",
      "\n",
      "[[6296    2]\n",
      " [3601    1]]\n",
      "\n",
      "---Report---\n",
      "              precision    recall  f1-score   support\n",
      "\n",
      "         0.0       0.64      1.00      0.78      6298\n",
      "         1.0       0.33      0.00      0.00      3602\n",
      "\n",
      "    accuracy                           0.64      9900\n",
      "   macro avg       0.48      0.50      0.39      9900\n",
      "weighted avg       0.53      0.64      0.49      9900\n",
      "\n"
     ]
    }
   ],
   "source": [
    "launch_SVM(X_train1,y_train1,X_test1,y_test1,kernel='rbf')"
   ]
  },
  {
   "cell_type": "markdown",
   "metadata": {},
   "source": [
    "#### Kernel Sigmoide"
   ]
  },
  {
   "cell_type": "code",
   "execution_count": 28,
   "metadata": {},
   "outputs": [
    {
     "name": "stdout",
     "output_type": "stream",
     "text": [
      "---Matriz de confusión---\n",
      "\n",
      "[[6298    0]\n",
      " [3602    0]]\n",
      "\n",
      "---Report---\n",
      "              precision    recall  f1-score   support\n",
      "\n",
      "         0.0       0.64      1.00      0.78      6298\n",
      "         1.0       0.00      0.00      0.00      3602\n",
      "\n",
      "    accuracy                           0.64      9900\n",
      "   macro avg       0.32      0.50      0.39      9900\n",
      "weighted avg       0.40      0.64      0.49      9900\n",
      "\n"
     ]
    }
   ],
   "source": [
    "launch_SVM(X_train1,y_train1,X_test1,y_test1,kernel='sigmoid')"
   ]
  },
  {
   "cell_type": "markdown",
   "metadata": {},
   "source": [
    "### Selección de datos 2"
   ]
  },
  {
   "cell_type": "markdown",
   "metadata": {},
   "source": [
    "#### Kernel lineal"
   ]
  },
  {
   "cell_type": "code",
   "execution_count": 29,
   "metadata": {},
   "outputs": [
    {
     "name": "stdout",
     "output_type": "stream",
     "text": [
      "---Matriz de confusión---\n",
      "\n",
      "[[6289    9]\n",
      " [2426 1176]]\n",
      "\n",
      "---Report---\n",
      "              precision    recall  f1-score   support\n",
      "\n",
      "         0.0       0.72      1.00      0.84      6298\n",
      "         1.0       0.99      0.33      0.49      3602\n",
      "\n",
      "    accuracy                           0.75      9900\n",
      "   macro avg       0.86      0.66      0.66      9900\n",
      "weighted avg       0.82      0.75      0.71      9900\n",
      "\n"
     ]
    }
   ],
   "source": [
    "launch_SVM(X_train2,y_train2,X_test2,y_test2,kernel='linear')"
   ]
  },
  {
   "cell_type": "markdown",
   "metadata": {},
   "source": [
    "#### Kernel Gaussiano"
   ]
  },
  {
   "cell_type": "code",
   "execution_count": 30,
   "metadata": {},
   "outputs": [
    {
     "name": "stdout",
     "output_type": "stream",
     "text": [
      "---Matriz de confusión---\n",
      "\n",
      "[[6289    9]\n",
      " [2426 1176]]\n",
      "\n",
      "---Report---\n",
      "              precision    recall  f1-score   support\n",
      "\n",
      "         0.0       0.72      1.00      0.84      6298\n",
      "         1.0       0.99      0.33      0.49      3602\n",
      "\n",
      "    accuracy                           0.75      9900\n",
      "   macro avg       0.86      0.66      0.66      9900\n",
      "weighted avg       0.82      0.75      0.71      9900\n",
      "\n"
     ]
    }
   ],
   "source": [
    "launch_SVM(X_train2,y_train2,X_test2,y_test2,kernel='rbf')"
   ]
  },
  {
   "cell_type": "markdown",
   "metadata": {},
   "source": [
    "#### Kernel Sigmoide"
   ]
  },
  {
   "cell_type": "code",
   "execution_count": 31,
   "metadata": {},
   "outputs": [
    {
     "name": "stdout",
     "output_type": "stream",
     "text": [
      "---Matriz de confusión---\n",
      "\n",
      "[[6298    0]\n",
      " [3602    0]]\n",
      "\n",
      "---Report---\n",
      "              precision    recall  f1-score   support\n",
      "\n",
      "         0.0       0.64      1.00      0.78      6298\n",
      "         1.0       0.00      0.00      0.00      3602\n",
      "\n",
      "    accuracy                           0.64      9900\n",
      "   macro avg       0.32      0.50      0.39      9900\n",
      "weighted avg       0.40      0.64      0.49      9900\n",
      "\n"
     ]
    }
   ],
   "source": [
    "launch_SVM(X_train1,y_train1,X_test1,y_test1,kernel='sigmoid')"
   ]
  },
  {
   "cell_type": "markdown",
   "metadata": {},
   "source": [
    "Como podemos observar el kernel que mejor resultados nos reporta es el lineal. Además haciendo uso del conjunto de features 1 obtenemos una precisión muy alta."
   ]
  },
  {
   "cell_type": "markdown",
   "metadata": {},
   "source": [
    "## 6. SVM Ajuste de Hiperparametros\n",
    "\n",
    "Los hiperparámetros son parámetros que no se aprenden directamente en los estimadores. Los ejemplos típicos para el caso de las SVM incluyen C, kernel y gamma, pero en realidad, Cualquier parámetro proporcionado al construir un estimador puede ser optimizado de esta manera.\n",
    "\n",
    "Un ajuste consiste primordialmente en:\n",
    "\n",
    "* Un estimador, en nuestro caso SVM\n",
    "\n",
    "* Un espacio de parámetros\n",
    "\n",
    "* Un método de búsqueda o muestreo de candidatos\n",
    "\n",
    "* Un esquema de validación cruzada; y\n",
    "\n",
    "* Una función de puntuación.\n",
    "\n",
    "En scikit-learn se proporcionan dos enfoques genéricos para la búsqueda de parámetros:\n",
    "\n",
    "- GridSearchCV considera exhaustivamente todas las combinaciones de parámetros\n",
    "\n",
    "- RandomizedSearchCV puede muestrear un número determinado de candidatos de un espacio de parámetros con una distribución especificada.\n",
    "\n",
    "Haciendo uso de estas herramientas, repetiremos el proceso anterior, pero sumarizando mucho mejor los resultados, y conseguiremos un mayor numero de combinaciones.\n",
    "\n",
    "Compararemos el rendimiento de los las SVM que varían en su parámetro de kernel, para decidir qué elección de este hiperparámetro predice mejor nuestros datos. Evaluaremos el rendimiento de los modelos utilizando RepeatedStratifiedKFold, repitiendo 10 veces una validación cruzada y 10 veces utilizando una aleatorización diferente de los datos. \n",
    "\n",
    "El rendimiento se evaluará utilizando roc_auc_score."
   ]
  },
  {
   "cell_type": "code",
   "execution_count": 33,
   "metadata": {},
   "outputs": [
    {
     "data": {
      "text/plain": [
       "GridSearchCV(estimator=SVC(random_state=0),\n",
       "             param_grid=[{'C': [1, 10], 'gamma': [0.001, 0.0001],\n",
       "                          'kernel': ['linear']},\n",
       "                         {'C': [1, 10], 'degree': [2, 3],\n",
       "                          'gamma': [0.001, 0.0001], 'kernel': ['poly']},\n",
       "                         {'C': [1, 10], 'gamma': [0.001, 0.0001],\n",
       "                          'kernel': ['rbf']},\n",
       "                         {'C': [1, 10], 'gamma': [0.001, 0.0001],\n",
       "                          'kernel': ['sigmoid']}],\n",
       "             scoring='accuracy')"
      ]
     },
     "execution_count": 33,
     "metadata": {},
     "output_type": "execute_result"
    }
   ],
   "source": [
    "param_grid = [\n",
    "    {'C': [1, 10],'gamma': [0.001, 0.0001],'kernel': ['linear']},\n",
    "    {'C': [1, 10],'gamma': [0.001, 0.0001],'kernel': ['poly'], 'degree': [2, 3]},\n",
    "    {'C': [1, 10],'gamma': [0.001, 0.0001],'kernel': ['rbf']},\n",
    "    {'C': [1, 10],'gamma': [0.001, 0.0001],'kernel': ['sigmoid']}\n",
    "]\n",
    "\n",
    "svc = SVC(random_state=0)\n",
    "\n",
    "#cv = RepeatedStratifiedKFold(\n",
    "#    n_splits=5, n_repeats=5, random_state=0\n",
    "#)\n",
    "\n",
    "search = GridSearchCV(\n",
    "    estimator=svc, param_grid=param_grid,\n",
    "    scoring='accuracy'#, cv=cv\n",
    ")\n",
    "search.fit(X_train1, y_train1)"
   ]
  },
  {
   "cell_type": "markdown",
   "metadata": {},
   "source": [
    "Extraemos los resultados a un dataframe para poder comparar el rendimiento de los modelos ajustados con los diferentes parametros"
   ]
  },
  {
   "cell_type": "code",
   "execution_count": 34,
   "metadata": {},
   "outputs": [
    {
     "data": {
      "text/html": [
       "<div>\n",
       "<style scoped>\n",
       "    .dataframe tbody tr th:only-of-type {\n",
       "        vertical-align: middle;\n",
       "    }\n",
       "\n",
       "    .dataframe tbody tr th {\n",
       "        vertical-align: top;\n",
       "    }\n",
       "\n",
       "    .dataframe thead th {\n",
       "        text-align: right;\n",
       "    }\n",
       "</style>\n",
       "<table border=\"1\" class=\"dataframe\">\n",
       "  <thead>\n",
       "    <tr style=\"text-align: right;\">\n",
       "      <th></th>\n",
       "      <th>params</th>\n",
       "      <th>rank_test_score</th>\n",
       "      <th>mean_test_score</th>\n",
       "      <th>std_test_score</th>\n",
       "    </tr>\n",
       "    <tr>\n",
       "      <th>kernel</th>\n",
       "      <th></th>\n",
       "      <th></th>\n",
       "      <th></th>\n",
       "      <th></th>\n",
       "    </tr>\n",
       "  </thead>\n",
       "  <tbody>\n",
       "    <tr>\n",
       "      <th>10_0.001_rbf</th>\n",
       "      <td>{'C': 10, 'gamma': 0.001, 'kernel': 'rbf'}</td>\n",
       "      <td>1</td>\n",
       "      <td>0.940846</td>\n",
       "      <td>0.003113</td>\n",
       "    </tr>\n",
       "    <tr>\n",
       "      <th>1_2_0.0001_poly</th>\n",
       "      <td>{'C': 1, 'degree': 2, 'gamma': 0.0001, 'kernel...</td>\n",
       "      <td>2</td>\n",
       "      <td>0.927910</td>\n",
       "      <td>0.003596</td>\n",
       "    </tr>\n",
       "    <tr>\n",
       "      <th>10_2_0.0001_poly</th>\n",
       "      <td>{'C': 10, 'degree': 2, 'gamma': 0.0001, 'kerne...</td>\n",
       "      <td>3</td>\n",
       "      <td>0.926119</td>\n",
       "      <td>0.002761</td>\n",
       "    </tr>\n",
       "    <tr>\n",
       "      <th>1_2_0.001_poly</th>\n",
       "      <td>{'C': 1, 'degree': 2, 'gamma': 0.001, 'kernel'...</td>\n",
       "      <td>4</td>\n",
       "      <td>0.925224</td>\n",
       "      <td>0.002278</td>\n",
       "    </tr>\n",
       "    <tr>\n",
       "      <th>1_0.001_linear</th>\n",
       "      <td>{'C': 1, 'gamma': 0.001, 'kernel': 'linear'}</td>\n",
       "      <td>5</td>\n",
       "      <td>0.924478</td>\n",
       "      <td>0.001924</td>\n",
       "    </tr>\n",
       "    <tr>\n",
       "      <th>1_0.0001_linear</th>\n",
       "      <td>{'C': 1, 'gamma': 0.0001, 'kernel': 'linear'}</td>\n",
       "      <td>5</td>\n",
       "      <td>0.924478</td>\n",
       "      <td>0.001924</td>\n",
       "    </tr>\n",
       "    <tr>\n",
       "      <th>10_2_0.001_poly</th>\n",
       "      <td>{'C': 10, 'degree': 2, 'gamma': 0.001, 'kernel...</td>\n",
       "      <td>7</td>\n",
       "      <td>0.924378</td>\n",
       "      <td>0.003927</td>\n",
       "    </tr>\n",
       "    <tr>\n",
       "      <th>10_3_0.001_poly</th>\n",
       "      <td>{'C': 10, 'degree': 3, 'gamma': 0.001, 'kernel...</td>\n",
       "      <td>8</td>\n",
       "      <td>0.924229</td>\n",
       "      <td>0.003219</td>\n",
       "    </tr>\n",
       "    <tr>\n",
       "      <th>1_3_0.001_poly</th>\n",
       "      <td>{'C': 1, 'degree': 3, 'gamma': 0.001, 'kernel'...</td>\n",
       "      <td>9</td>\n",
       "      <td>0.923731</td>\n",
       "      <td>0.003552</td>\n",
       "    </tr>\n",
       "    <tr>\n",
       "      <th>10_3_0.0001_poly</th>\n",
       "      <td>{'C': 10, 'degree': 3, 'gamma': 0.0001, 'kerne...</td>\n",
       "      <td>10</td>\n",
       "      <td>0.923085</td>\n",
       "      <td>0.004577</td>\n",
       "    </tr>\n",
       "    <tr>\n",
       "      <th>1_3_0.0001_poly</th>\n",
       "      <td>{'C': 1, 'degree': 3, 'gamma': 0.0001, 'kernel...</td>\n",
       "      <td>11</td>\n",
       "      <td>0.922736</td>\n",
       "      <td>0.004384</td>\n",
       "    </tr>\n",
       "    <tr>\n",
       "      <th>10_0.001_linear</th>\n",
       "      <td>{'C': 10, 'gamma': 0.001, 'kernel': 'linear'}</td>\n",
       "      <td>12</td>\n",
       "      <td>0.920846</td>\n",
       "      <td>0.002429</td>\n",
       "    </tr>\n",
       "    <tr>\n",
       "      <th>10_0.0001_linear</th>\n",
       "      <td>{'C': 10, 'gamma': 0.0001, 'kernel': 'linear'}</td>\n",
       "      <td>12</td>\n",
       "      <td>0.920846</td>\n",
       "      <td>0.002429</td>\n",
       "    </tr>\n",
       "    <tr>\n",
       "      <th>10_0.0001_rbf</th>\n",
       "      <td>{'C': 10, 'gamma': 0.0001, 'kernel': 'rbf'}</td>\n",
       "      <td>14</td>\n",
       "      <td>0.919851</td>\n",
       "      <td>0.003491</td>\n",
       "    </tr>\n",
       "    <tr>\n",
       "      <th>1_0.001_rbf</th>\n",
       "      <td>{'C': 1, 'gamma': 0.001, 'kernel': 'rbf'}</td>\n",
       "      <td>15</td>\n",
       "      <td>0.918657</td>\n",
       "      <td>0.003838</td>\n",
       "    </tr>\n",
       "    <tr>\n",
       "      <th>1_0.0001_rbf</th>\n",
       "      <td>{'C': 1, 'gamma': 0.0001, 'kernel': 'rbf'}</td>\n",
       "      <td>16</td>\n",
       "      <td>0.808010</td>\n",
       "      <td>0.004924</td>\n",
       "    </tr>\n",
       "    <tr>\n",
       "      <th>10_0.001_sigmoid</th>\n",
       "      <td>{'C': 10, 'gamma': 0.001, 'kernel': 'sigmoid'}</td>\n",
       "      <td>17</td>\n",
       "      <td>0.629403</td>\n",
       "      <td>0.000100</td>\n",
       "    </tr>\n",
       "    <tr>\n",
       "      <th>1_0.001_sigmoid</th>\n",
       "      <td>{'C': 1, 'gamma': 0.001, 'kernel': 'sigmoid'}</td>\n",
       "      <td>17</td>\n",
       "      <td>0.629403</td>\n",
       "      <td>0.000100</td>\n",
       "    </tr>\n",
       "    <tr>\n",
       "      <th>1_0.0001_sigmoid</th>\n",
       "      <td>{'C': 1, 'gamma': 0.0001, 'kernel': 'sigmoid'}</td>\n",
       "      <td>17</td>\n",
       "      <td>0.629403</td>\n",
       "      <td>0.000100</td>\n",
       "    </tr>\n",
       "    <tr>\n",
       "      <th>10_0.0001_sigmoid</th>\n",
       "      <td>{'C': 10, 'gamma': 0.0001, 'kernel': 'sigmoid'}</td>\n",
       "      <td>17</td>\n",
       "      <td>0.629403</td>\n",
       "      <td>0.000100</td>\n",
       "    </tr>\n",
       "  </tbody>\n",
       "</table>\n",
       "</div>"
      ],
      "text/plain": [
       "                                                              params  \\\n",
       "kernel                                                                 \n",
       "10_0.001_rbf              {'C': 10, 'gamma': 0.001, 'kernel': 'rbf'}   \n",
       "1_2_0.0001_poly    {'C': 1, 'degree': 2, 'gamma': 0.0001, 'kernel...   \n",
       "10_2_0.0001_poly   {'C': 10, 'degree': 2, 'gamma': 0.0001, 'kerne...   \n",
       "1_2_0.001_poly     {'C': 1, 'degree': 2, 'gamma': 0.001, 'kernel'...   \n",
       "1_0.001_linear          {'C': 1, 'gamma': 0.001, 'kernel': 'linear'}   \n",
       "1_0.0001_linear        {'C': 1, 'gamma': 0.0001, 'kernel': 'linear'}   \n",
       "10_2_0.001_poly    {'C': 10, 'degree': 2, 'gamma': 0.001, 'kernel...   \n",
       "10_3_0.001_poly    {'C': 10, 'degree': 3, 'gamma': 0.001, 'kernel...   \n",
       "1_3_0.001_poly     {'C': 1, 'degree': 3, 'gamma': 0.001, 'kernel'...   \n",
       "10_3_0.0001_poly   {'C': 10, 'degree': 3, 'gamma': 0.0001, 'kerne...   \n",
       "1_3_0.0001_poly    {'C': 1, 'degree': 3, 'gamma': 0.0001, 'kernel...   \n",
       "10_0.001_linear        {'C': 10, 'gamma': 0.001, 'kernel': 'linear'}   \n",
       "10_0.0001_linear      {'C': 10, 'gamma': 0.0001, 'kernel': 'linear'}   \n",
       "10_0.0001_rbf            {'C': 10, 'gamma': 0.0001, 'kernel': 'rbf'}   \n",
       "1_0.001_rbf                {'C': 1, 'gamma': 0.001, 'kernel': 'rbf'}   \n",
       "1_0.0001_rbf              {'C': 1, 'gamma': 0.0001, 'kernel': 'rbf'}   \n",
       "10_0.001_sigmoid      {'C': 10, 'gamma': 0.001, 'kernel': 'sigmoid'}   \n",
       "1_0.001_sigmoid        {'C': 1, 'gamma': 0.001, 'kernel': 'sigmoid'}   \n",
       "1_0.0001_sigmoid      {'C': 1, 'gamma': 0.0001, 'kernel': 'sigmoid'}   \n",
       "10_0.0001_sigmoid    {'C': 10, 'gamma': 0.0001, 'kernel': 'sigmoid'}   \n",
       "\n",
       "                   rank_test_score  mean_test_score  std_test_score  \n",
       "kernel                                                               \n",
       "10_0.001_rbf                     1         0.940846        0.003113  \n",
       "1_2_0.0001_poly                  2         0.927910        0.003596  \n",
       "10_2_0.0001_poly                 3         0.926119        0.002761  \n",
       "1_2_0.001_poly                   4         0.925224        0.002278  \n",
       "1_0.001_linear                   5         0.924478        0.001924  \n",
       "1_0.0001_linear                  5         0.924478        0.001924  \n",
       "10_2_0.001_poly                  7         0.924378        0.003927  \n",
       "10_3_0.001_poly                  8         0.924229        0.003219  \n",
       "1_3_0.001_poly                   9         0.923731        0.003552  \n",
       "10_3_0.0001_poly                10         0.923085        0.004577  \n",
       "1_3_0.0001_poly                 11         0.922736        0.004384  \n",
       "10_0.001_linear                 12         0.920846        0.002429  \n",
       "10_0.0001_linear                12         0.920846        0.002429  \n",
       "10_0.0001_rbf                   14         0.919851        0.003491  \n",
       "1_0.001_rbf                     15         0.918657        0.003838  \n",
       "1_0.0001_rbf                    16         0.808010        0.004924  \n",
       "10_0.001_sigmoid                17         0.629403        0.000100  \n",
       "1_0.001_sigmoid                 17         0.629403        0.000100  \n",
       "1_0.0001_sigmoid                17         0.629403        0.000100  \n",
       "10_0.0001_sigmoid               17         0.629403        0.000100  "
      ]
     },
     "execution_count": 34,
     "metadata": {},
     "output_type": "execute_result"
    }
   ],
   "source": [
    "results_df = pd.DataFrame(search.cv_results_)\n",
    "results_df = results_df.sort_values(by=['rank_test_score'])\n",
    "results_df = (\n",
    "    results_df\n",
    "    .set_index(results_df[\"params\"].apply(\n",
    "        lambda x: \"_\".join(str(val) for val in x.values()))\n",
    "    )\n",
    "    .rename_axis('kernel')\n",
    ")\n",
    "results_df[\n",
    "    ['params', 'rank_test_score', 'mean_test_score', 'std_test_score']\n",
    "]"
   ]
  },
  {
   "cell_type": "markdown",
   "metadata": {},
   "source": [
    "Pero no sabemos si estos modelos son significativos. Para evaluar esto, necesitamos realizar una prueba estadística. En concreto, para contrastar el rendimiento de dos modelos debemos comparar estadísticamente sus puntuaciones AUC.\n",
    "\n",
    "Sin embargo, las puntuaciones de los modelos no son independientes: todos los modelos se evalúan en las mismas particiones, lo que aumenta la correlación entre el rendimiento de los modelos. Dado que algunas particiones de los datos pueden hacer que la distinción de las clases sea particularmente fácil o difícil de encontrar para todos los modelos, las puntuaciones de los modelos covarían.\n",
    "\n",
    "Trazando el rendimiento de todos los modelos en cada pliegue y calculando la correlación entre los modelos comprobaremos este efecto."
   ]
  },
  {
   "cell_type": "code",
   "execution_count": 35,
   "metadata": {},
   "outputs": [
    {
     "data": {
      "image/png": "[encoded data removed]",
      "text/plain": [
       "<Figure size 432x288 with 1 Axes>"
      ]
     },
     "metadata": {
      "needs_background": "light"
     },
     "output_type": "display_data"
    },
    {
     "name": "stdout",
     "output_type": "stream",
     "text": [
      "Correlation of models:\n",
      " kernel             10_0.001_rbf  1_2_0.0001_poly  10_2_0.0001_poly  \\\n",
      "kernel                                                               \n",
      "10_0.001_rbf           1.000000         0.726258          0.956208   \n",
      "1_2_0.0001_poly        0.726258         1.000000          0.850115   \n",
      "10_2_0.0001_poly       0.956208         0.850115          1.000000   \n",
      "1_2_0.001_poly         0.718521         0.643094          0.743859   \n",
      "1_0.001_linear         0.313251         0.208546          0.465864   \n",
      "1_0.0001_linear        0.313251         0.208546          0.465864   \n",
      "10_2_0.001_poly        0.558926         0.727449          0.748780   \n",
      "10_3_0.001_poly        0.515846         0.274363          0.607130   \n",
      "1_3_0.001_poly         0.785479         0.952205          0.921304   \n",
      "10_3_0.0001_poly       0.989627         0.815248          0.973404   \n",
      "1_3_0.0001_poly        0.733322         0.911856          0.815828   \n",
      "10_0.001_linear        0.178743         0.398410          0.398561   \n",
      "10_0.0001_linear       0.178743         0.398410          0.398561   \n",
      "10_0.0001_rbf          0.667646         0.861827          0.698449   \n",
      "1_0.001_rbf            0.787435         0.955124          0.878322   \n",
      "1_0.0001_rbf           0.024066         0.693985          0.233053   \n",
      "10_0.001_sigmoid       0.551453         0.338973          0.360375   \n",
      "1_0.001_sigmoid        0.551453         0.338973          0.360375   \n",
      "1_0.0001_sigmoid       0.551453         0.338973          0.360375   \n",
      "10_0.0001_sigmoid      0.551453         0.338973          0.360375   \n",
      "\n",
      "kernel             1_2_0.001_poly  1_0.001_linear  1_0.0001_linear  \\\n",
      "kernel                                                               \n",
      "10_0.001_rbf             0.718521        0.313251         0.313251   \n",
      "1_2_0.0001_poly          0.643094        0.208546         0.208546   \n",
      "10_2_0.0001_poly         0.743859        0.465864         0.465864   \n",
      "1_2_0.001_poly           1.000000        0.429757         0.429757   \n",
      "1_0.001_linear           0.429757        1.000000         1.000000   \n",
      "1_0.0001_linear          0.429757        1.000000         1.000000   \n",
      "10_2_0.001_poly          0.774851        0.773040         0.773040   \n",
      "10_3_0.001_poly          0.611397        0.957462         0.957462   \n",
      "1_3_0.001_poly           0.771370        0.478434         0.478434   \n",
      "10_3_0.0001_poly         0.744785        0.285803         0.285803   \n",
      "1_3_0.0001_poly          0.881389        0.236467         0.236467   \n",
      "10_0.001_linear          0.600349        0.837698         0.837698   \n",
      "10_0.0001_linear         0.600349        0.837698         0.837698   \n",
      "10_0.0001_rbf            0.301004       -0.196382        -0.196382   \n",
      "1_0.001_rbf              0.488467        0.177644         0.177644   \n",
      "1_0.0001_rbf             0.076807       -0.114166        -0.114166   \n",
      "10_0.001_sigmoid         0.141977       -0.607578        -0.607578   \n",
      "1_0.001_sigmoid          0.141977       -0.607578        -0.607578   \n",
      "1_0.0001_sigmoid         0.141977       -0.607578        -0.607578   \n",
      "10_0.0001_sigmoid        0.141977       -0.607578        -0.607578   \n",
      "\n",
      "kernel             10_2_0.001_poly  10_3_0.001_poly  1_3_0.001_poly  \\\n",
      "kernel                                                                \n",
      "10_0.001_rbf              0.558926         0.515846        0.785479   \n",
      "1_2_0.0001_poly           0.727449         0.274363        0.952205   \n",
      "10_2_0.0001_poly          0.748780         0.607130        0.921304   \n",
      "1_2_0.001_poly            0.774851         0.611397        0.771370   \n",
      "1_0.001_linear            0.773040         0.957462        0.478434   \n",
      "1_0.0001_linear           0.773040         0.957462        0.478434   \n",
      "10_2_0.001_poly           1.000000         0.787195        0.885609   \n",
      "10_3_0.001_poly           0.787195         1.000000        0.552327   \n",
      "1_3_0.001_poly            0.885609         0.552327        1.000000   \n",
      "10_3_0.0001_poly          0.610059         0.474940        0.851461   \n",
      "1_3_0.0001_poly           0.775620         0.368492        0.920535   \n",
      "10_0.001_linear           0.900393         0.776189        0.603066   \n",
      "10_0.0001_linear          0.900393         0.776189        0.603066   \n",
      "10_0.0001_rbf             0.297004        -0.116299        0.698107   \n",
      "1_0.001_rbf               0.604429         0.244457        0.892587   \n",
      "1_0.0001_rbf              0.375737        -0.233018        0.527693   \n",
      "10_0.001_sigmoid         -0.285061        -0.401859        0.161095   \n",
      "1_0.001_sigmoid          -0.285061        -0.401859        0.161095   \n",
      "1_0.0001_sigmoid         -0.285061        -0.401859        0.161095   \n",
      "10_0.0001_sigmoid        -0.285061        -0.401859        0.161095   \n",
      "\n",
      "kernel             10_3_0.0001_poly  1_3_0.0001_poly  10_0.001_linear  \\\n",
      "kernel                                                                  \n",
      "10_0.001_rbf               0.989627         0.733322         0.178743   \n",
      "1_2_0.0001_poly            0.815248         0.911856         0.398410   \n",
      "10_2_0.0001_poly           0.973404         0.815828         0.398561   \n",
      "1_2_0.001_poly             0.744785         0.881389         0.600349   \n",
      "1_0.001_linear             0.285803         0.236467         0.837698   \n",
      "1_0.0001_linear            0.285803         0.236467         0.837698   \n",
      "10_2_0.001_poly            0.610059         0.775620         0.900393   \n",
      "10_3_0.001_poly            0.474940         0.368492         0.776189   \n",
      "1_3_0.001_poly             0.851461         0.920535         0.603066   \n",
      "10_3_0.0001_poly           1.000000         0.811225         0.221282   \n",
      "1_3_0.0001_poly            0.811225         1.000000         0.502463   \n",
      "10_0.001_linear            0.221282         0.502463         1.000000   \n",
      "10_0.0001_linear           0.221282         0.502463         1.000000   \n",
      "10_0.0001_rbf              0.740270         0.667385        -0.109743   \n",
      "1_0.001_rbf                0.853233         0.781891         0.223032   \n",
      "1_0.0001_rbf               0.161015         0.500846         0.255791   \n",
      "10_0.001_sigmoid           0.548913         0.300710        -0.655386   \n",
      "1_0.001_sigmoid            0.548913         0.300710        -0.655386   \n",
      "1_0.0001_sigmoid           0.548913         0.300710        -0.655386   \n",
      "10_0.0001_sigmoid          0.548913         0.300710        -0.655386   \n",
      "\n",
      "kernel             10_0.0001_linear  10_0.0001_rbf  1_0.001_rbf  1_0.0001_rbf  \\\n",
      "kernel                                                                          \n",
      "10_0.001_rbf               0.178743       0.667646     0.787435      0.024066   \n",
      "1_2_0.0001_poly            0.398410       0.861827     0.955124      0.693985   \n",
      "10_2_0.0001_poly           0.398561       0.698449     0.878322      0.233053   \n",
      "1_2_0.001_poly             0.600349       0.301004     0.488467      0.076807   \n",
      "1_0.001_linear             0.837698      -0.196382     0.177644     -0.114166   \n",
      "1_0.0001_linear            0.837698      -0.196382     0.177644     -0.114166   \n",
      "10_2_0.001_poly            0.900393       0.297004     0.604429      0.375737   \n",
      "10_3_0.001_poly            0.776189      -0.116299     0.244457     -0.233018   \n",
      "1_3_0.001_poly             0.603066       0.698107     0.892587      0.527693   \n",
      "10_3_0.0001_poly           0.221282       0.740270     0.853233      0.161015   \n",
      "1_3_0.0001_poly            0.502463       0.667385     0.781891      0.500846   \n",
      "10_0.001_linear            1.000000      -0.109743     0.223032      0.255791   \n",
      "10_0.0001_linear           1.000000      -0.109743     0.223032      0.255791   \n",
      "10_0.0001_rbf             -0.109743       1.000000     0.929288      0.638782   \n",
      "1_0.001_rbf                0.223032       0.929288     1.000000      0.610446   \n",
      "1_0.0001_rbf               0.255791       0.638782     0.610446      1.000000   \n",
      "10_0.001_sigmoid          -0.655386       0.684041     0.453743      0.020209   \n",
      "1_0.001_sigmoid           -0.655386       0.684041     0.453743      0.020209   \n",
      "1_0.0001_sigmoid          -0.655386       0.684041     0.453743      0.020209   \n",
      "10_0.0001_sigmoid         -0.655386       0.684041     0.453743      0.020209   \n",
      "\n",
      "kernel             10_0.001_sigmoid  1_0.001_sigmoid  1_0.0001_sigmoid  \\\n",
      "kernel                                                                   \n",
      "10_0.001_rbf               0.551453         0.551453          0.551453   \n",
      "1_2_0.0001_poly            0.338973         0.338973          0.338973   \n",
      "10_2_0.0001_poly           0.360375         0.360375          0.360375   \n",
      "1_2_0.001_poly             0.141977         0.141977          0.141977   \n",
      "1_0.001_linear            -0.607578        -0.607578         -0.607578   \n",
      "1_0.0001_linear           -0.607578        -0.607578         -0.607578   \n",
      "10_2_0.001_poly           -0.285061        -0.285061         -0.285061   \n",
      "10_3_0.001_poly           -0.401859        -0.401859         -0.401859   \n",
      "1_3_0.001_poly             0.161095         0.161095          0.161095   \n",
      "10_3_0.0001_poly           0.548913         0.548913          0.548913   \n",
      "1_3_0.0001_poly            0.300710         0.300710          0.300710   \n",
      "10_0.001_linear           -0.655386        -0.655386         -0.655386   \n",
      "10_0.0001_linear          -0.655386        -0.655386         -0.655386   \n",
      "10_0.0001_rbf              0.684041         0.684041          0.684041   \n",
      "1_0.001_rbf                0.453743         0.453743          0.453743   \n",
      "1_0.0001_rbf               0.020209         0.020209          0.020209   \n",
      "10_0.001_sigmoid           1.000000         1.000000          1.000000   \n",
      "1_0.001_sigmoid            1.000000         1.000000          1.000000   \n",
      "1_0.0001_sigmoid           1.000000         1.000000          1.000000   \n",
      "10_0.0001_sigmoid          1.000000         1.000000          1.000000   \n",
      "\n",
      "kernel             10_0.0001_sigmoid  \n",
      "kernel                                \n",
      "10_0.001_rbf                0.551453  \n",
      "1_2_0.0001_poly             0.338973  \n",
      "10_2_0.0001_poly            0.360375  \n",
      "1_2_0.001_poly              0.141977  \n",
      "1_0.001_linear             -0.607578  \n",
      "1_0.0001_linear            -0.607578  \n",
      "10_2_0.001_poly            -0.285061  \n",
      "10_3_0.001_poly            -0.401859  \n",
      "1_3_0.001_poly              0.161095  \n",
      "10_3_0.0001_poly            0.548913  \n",
      "1_3_0.0001_poly             0.300710  \n",
      "10_0.001_linear            -0.655386  \n",
      "10_0.0001_linear           -0.655386  \n",
      "10_0.0001_rbf               0.684041  \n",
      "1_0.001_rbf                 0.453743  \n",
      "1_0.0001_rbf                0.020209  \n",
      "10_0.001_sigmoid            1.000000  \n",
      "1_0.001_sigmoid             1.000000  \n",
      "1_0.0001_sigmoid            1.000000  \n",
      "10_0.0001_sigmoid           1.000000  \n"
     ]
    }
   ],
   "source": [
    "model_scores = results_df.filter(regex=r'split\\d*_test_score')\n",
    "\n",
    "fig, ax = plt.subplots()\n",
    "sns.lineplot(\n",
    "    data=model_scores.transpose().iloc[:30],\n",
    "    dashes=False, palette='Set1', marker='o', alpha=.5, ax=ax\n",
    ")\n",
    "ax.set_xlabel(\"CV test fold\", size=12, labelpad=10)\n",
    "ax.set_ylabel(\"Model AUC\", size=12)\n",
    "ax.tick_params(bottom=True, labelbottom=False)\n",
    "plt.show()"
   ]
  },
  {
   "cell_type": "markdown",
   "metadata": {},
   "source": [
    "Podemos observar que el rendimiento de los modelos depende en gran medida del pliegue."
   ]
  }
 ],
 "metadata": {
  "kernelspec": {
   "display_name": "Python 3",
   "language": "python",
   "name": "python3"
  },
  "language_info": {
   "codemirror_mode": {
    "name": "ipython",
    "version": 3
   },
   "file_extension": ".py",
   "mimetype": "text/x-python",
   "name": "python",
   "nbconvert_exporter": "python",
   "pygments_lexer": "ipython3",
   "version": "3.7.9"
  }
 },
 "nbformat": 4,
 "nbformat_minor": 4
}
